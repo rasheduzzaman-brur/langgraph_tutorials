{
 "cells": [
  {
   "cell_type": "markdown",
   "id": "af770f8d",
   "metadata": {},
   "source": [
    "# Build a basic chatbot"
   ]
  },
  {
   "cell_type": "markdown",
   "id": "90aeaf52",
   "metadata": {},
   "source": [
    "Install the prereuisit requirements\n",
    "\n",
    "``` \n",
    "pip install -U langgraph\n",
    "```"
   ]
  },
  {
   "cell_type": "markdown",
   "id": "3778bde7",
   "metadata": {},
   "source": [
    "\n",
    "- `from typing import Annotated` and `from typing_extensions import TypedDict`:  \n",
    "    These are used for type annotations. `TypedDict` lets you define a dictionary with specific keys and value types. `Annotated` allows you to add metadata to types.\n",
    "\n",
    "- `from langgraph.graph import StateGraph, START` and `from langgraph.graph.message import add_messages`:  \n",
    "    These import classes and functions from the `langgraph` library, which is used for building conversational AI workflows.\n",
    "\n",
    "- `class State(TypedDict): ...`:  \n",
    "    This defines a dictionary type called `State` with a single key, `messages`, which is a list. The `add_messages` annotation specifies that when updating this key, new messages should be appended to the list rather than replacing it.\n",
    "\n",
    "- `graph_builder = StateGraph(State)`:  \n",
    "    This creates a new state graph for managing the chatbot’s conversation state, using the `State` structure defined above.\n",
    "\n",
    "In summary, this code sets up the data structure and graph logic needed to build a chatbot that tracks a list of messages in its state."
   ]
  },
  {
   "cell_type": "code",
   "execution_count": null,
   "id": "11fd5ced",
   "metadata": {},
   "outputs": [],
   "source": []
  },
  {
   "cell_type": "markdown",
   "id": "bf93c737",
   "metadata": {},
   "source": [
    "### Define StateGraph"
   ]
  },
  {
   "cell_type": "code",
   "execution_count": null,
   "id": "a028ed64",
   "metadata": {},
   "outputs": [],
   "source": [
    "from typing import Annotated\n",
    "\n",
    "from typing_extensions import TypedDict\n",
    "\n",
    "from langgraph.graph import StateGraph, START\n",
    "from langgraph.graph.message import add_messages\n",
    "\n",
    "\n",
    "class State(TypedDict):\n",
    "    # Messages have the type \"list\". The `add_messages` function\n",
    "    # in the annotation defines how this state key should be updated\n",
    "    # (in this case, it appends messages to the list, rather than overwriting them)\n",
    "    messages: Annotated[list, add_messages]\n",
    "\n",
    "\n",
    "graph_builder = StateGraph(State)"
   ]
  },
  {
   "cell_type": "markdown",
   "id": "4cff6d9d",
   "metadata": {},
   "source": [
    "### Define LLM"
   ]
  },
  {
   "cell_type": "code",
   "execution_count": null,
   "id": "74c90eea",
   "metadata": {},
   "outputs": [],
   "source": [
    "from langchain_groq import ChatGroq \n",
    "\n",
    "llm = ChatGroq(temperature=0,\n",
    "                    model_name=\"llama-3.3-70b-versatile\",\n",
    "                    api_key=\"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\")\n"
   ]
  },
  {
   "cell_type": "markdown",
   "id": "5ee34d66",
   "metadata": {},
   "source": [
    "### Make Node"
   ]
  },
  {
   "cell_type": "code",
   "execution_count": null,
   "id": "e1869f47",
   "metadata": {},
   "outputs": [],
   "source": [
    "def chatbot(state: State):\n",
    "    response = llm.invoke(state[\"messages\"])\n",
    "\n",
    "    return {\"messages\": [response]}\n",
    "\n",
    "\n",
    "# The first argument is the unique node name\n",
    "# The second argument is the function or object that will be called whenever\n",
    "# the node is used.\n",
    "graph_builder.add_node(\"chatbot\", chatbot)"
   ]
  },
  {
   "cell_type": "code",
   "execution_count": null,
   "id": "bb3eca6f",
   "metadata": {},
   "outputs": [],
   "source": [
    "graph_builder.add_edge(START, \"chatbot\")"
   ]
  },
  {
   "cell_type": "code",
   "execution_count": null,
   "id": "7be2cb7f",
   "metadata": {},
   "outputs": [],
   "source": [
    "graph = graph_builder.compile()"
   ]
  },
  {
   "cell_type": "markdown",
   "id": "fde68baa",
   "metadata": {},
   "source": [
    "### Display Graph"
   ]
  },
  {
   "cell_type": "code",
   "execution_count": null,
   "id": "84e8a990",
   "metadata": {},
   "outputs": [],
   "source": [
    "from IPython.display import Image, display\n",
    "\n",
    "try:\n",
    "    display(Image(graph.get_graph().draw_mermaid_png()))\n",
    "except Exception:\n",
    "    # This requires some extra dependencies and is optional\n",
    "    pass"
   ]
  },
  {
   "cell_type": "markdown",
   "id": "fa171fdf",
   "metadata": {},
   "source": [
    "### Query to graph"
   ]
  },
  {
   "cell_type": "code",
   "execution_count": null,
   "id": "27caf70b",
   "metadata": {},
   "outputs": [],
   "source": [
    "def stream_graph_updates(user_input: str):\n",
    "    for event in graph.stream({\"messages\": [{\"role\": \"user\", \"content\": user_input}]}):\n",
    "        for value in event.values():\n",
    "            print(\"Assistant:\", value[\"messages\"][-1].content)\n",
    "\n",
    "\n",
    "while True:\n",
    "    try:\n",
    "        user_input = input(\"User: \")\n",
    "        if user_input.lower() in [\"quit\", \"exit\", \"q\"]:\n",
    "            print(\"Goodbye!\")\n",
    "            break\n",
    "        # stream_graph_updates(user_input)\n",
    "        print(graph.invoke({\"messages\": [{\"role\": \"user\", \"content\": user_input}]}))\n",
    "    except:\n",
    "        # fallback if input() is not available\n",
    "        user_input = \"What do you know about LangGraph?\"\n",
    "        print(\"User: \" + user_input)\n",
    "        stream_graph_updates(user_input)\n",
    "        break"
   ]
  },
  {
   "cell_type": "markdown",
   "id": "c0c993a9",
   "metadata": {},
   "source": [
    "# Add tools"
   ]
  },
  {
   "cell_type": "markdown",
   "id": "c4be4c78",
   "metadata": {},
   "source": [
    "```bash\n",
    "pip install -U langchain-tavily"
   ]
  },
  {
   "cell_type": "markdown",
   "id": "42e20f49",
   "metadata": {},
   "source": [
    "### Init tool"
   ]
  },
  {
   "cell_type": "code",
   "execution_count": 2,
   "id": "86e64b91",
   "metadata": {},
   "outputs": [],
   "source": [
    "TAVILY_API_KEY = \"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\"\n",
    "import os\n",
    "os.environ[\"TAVILY_API_KEY\"] = TAVILY_API_KEY"
   ]
  },
  {
   "cell_type": "code",
   "execution_count": 9,
   "id": "23515c66",
   "metadata": {},
   "outputs": [
    {
     "name": "stdout",
     "output_type": "stream",
     "text": [
      "max_results=1 api_wrapper=TavilySearchAPIWrapper(tavily_api_key=SecretStr('**********'))\n"
     ]
    },
    {
     "data": {
      "text/plain": [
       "{'query': \"What's a 'node' in LangGraph?\",\n",
       " 'follow_up_questions': None,\n",
       " 'answer': None,\n",
       " 'images': [],\n",
       " 'results': [{'title': 'LangGraph From LangChain Explained In Simple Terms',\n",
       "   'url': 'https://cobusgreyling.medium.com/langgraph-from-langchain-explained-in-simple-terms-f7cd0c12cdbf',\n",
       "   'content': 'LangGraph is a method for creating state machines for conversational flow by defining them as graphs & it’s easier to understand than you might think. Prompt chaining can be described as a technique used in working with language models, where multiple prompts (nodes) are sequentially linked (via edges) together to guide the generative app through a series of related tasks or steps. LangGraph is a module built on top of LangChain to better enable creation of cyclical graphs, often needed for agent runtimes. Intro to LangGraph - LangGraph ------------------------------ ### Build language agents as graphs langchain-ai.github.io Building AI agent systems with LangGraph ---------------------------------------- ### Artificial Intelligence (AI) has advanced significantly, and language models (LLMs) are now performing complex tasks and making dynamic…',\n",
       "   'score': 0.6821721,\n",
       "   'raw_content': None}],\n",
       " 'response_time': 1.25}"
      ]
     },
     "execution_count": 9,
     "metadata": {},
     "output_type": "execute_result"
    }
   ],
   "source": [
    "from langchain_tavily import TavilySearch\n",
    "\n",
    "tool = TavilySearch(max_results=1)\n",
    "\n",
    "print(tool)\n",
    "tools = [tool]\n",
    "tool.invoke(\"What's a 'node' in LangGraph?\")"
   ]
  },
  {
   "cell_type": "markdown",
   "id": "b75386a0",
   "metadata": {},
   "source": [
    "### Init LLM"
   ]
  },
  {
   "cell_type": "code",
   "execution_count": 53,
   "id": "9f5c6c83",
   "metadata": {},
   "outputs": [],
   "source": [
    "from langchain_groq import ChatGroq \n",
    "\n",
    "llm = ChatGroq(temperature=0,\n",
    "                    model_name=\"llama-3.3-70b-versatile\",\n",
    "                    api_key=\"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\")\n"
   ]
  },
  {
   "cell_type": "markdown",
   "id": "1c020303",
   "metadata": {},
   "source": [
    "### Define the graph"
   ]
  },
  {
   "cell_type": "code",
   "execution_count": 82,
   "id": "730ba12c",
   "metadata": {},
   "outputs": [
    {
     "data": {
      "text/plain": [
       "<langgraph.graph.state.StateGraph at 0x7e76f8b3b0a0>"
      ]
     },
     "execution_count": 82,
     "metadata": {},
     "output_type": "execute_result"
    }
   ],
   "source": [
    "from typing import Annotated\n",
    "\n",
    "from typing_extensions import TypedDict\n",
    "\n",
    "from langgraph.graph import StateGraph, START, END\n",
    "from langgraph.graph.message import add_messages\n",
    "\n",
    "class State(TypedDict):\n",
    "    messages: Annotated[list, add_messages]\n",
    "\n",
    "graph_builder = StateGraph(State)\n",
    "\n",
    "# Modification: tell the LLM which tools it can call\n",
    "# highlight-next-line\n",
    "llm_with_tools = llm.bind_tools(tools)\n",
    "\n",
    "def chatbot(state: State):\n",
    "    return {\"messages\": [llm_with_tools.invoke(state[\"messages\"])]}\n",
    "\n",
    "graph_builder.add_node(\"chatbot\", chatbot)"
   ]
  },
  {
   "cell_type": "markdown",
   "id": "85edd2d1",
   "metadata": {},
   "source": [
    "### Create a function to run the tools"
   ]
  },
  {
   "cell_type": "code",
   "execution_count": 84,
   "id": "5f26eb93",
   "metadata": {},
   "outputs": [
    {
     "data": {
      "text/plain": [
       "<langgraph.graph.state.StateGraph at 0x7e76f8b3b0a0>"
      ]
     },
     "execution_count": 84,
     "metadata": {},
     "output_type": "execute_result"
    }
   ],
   "source": [
    "import json\n",
    "\n",
    "from langchain_core.messages import ToolMessage, HumanMessage, AIMessage\n",
    "\n",
    "\n",
    "class BasicToolNode:\n",
    "    \"\"\"A node that runs the tools requested in the last AIMessage.\"\"\"\n",
    "\n",
    "    def __init__(self, tools: list) -> None:\n",
    "        self.tools_by_name = {tool.name: tool for tool in tools}\n",
    "\n",
    "    def __call__(self, inputs: dict):\n",
    "        if messages := inputs.get(\"messages\", []):\n",
    "            message = messages[-1]\n",
    "        else:\n",
    "            raise ValueError(\"No message found in input\")\n",
    "        outputs = []\n",
    "        for tool_call in message.tool_calls:\n",
    "            tool_result = self.tools_by_name[tool_call[\"name\"]].invoke(\n",
    "                tool_call[\"args\"]\n",
    "            )\n",
    "            outputs.append(\n",
    "                ToolMessage(\n",
    "                    content=json.dumps(tool_result),\n",
    "                    name=tool_call[\"name\"],\n",
    "                    tool_call_id=tool_call[\"id\"],\n",
    "                )\n",
    "            )\n",
    "        return {\"messages\": outputs}\n",
    "\n",
    "\n",
    "tool_node = BasicToolNode(tools=[tool])\n",
    "graph_builder.add_node(\"tools\", tool_node)"
   ]
  },
  {
   "cell_type": "markdown",
   "id": "adcdc53b",
   "metadata": {},
   "source": [
    "### Crear Router Function"
   ]
  },
  {
   "cell_type": "code",
   "execution_count": 85,
   "id": "2034c04a",
   "metadata": {},
   "outputs": [],
   "source": [
    "def route_tools(\n",
    "    state: State,\n",
    "):\n",
    "    \"\"\"\n",
    "    Use in the conditional_edge to route to the ToolNode if the last message\n",
    "    has tool calls. Otherwise, route to the end.\n",
    "    \"\"\"\n",
    "    if isinstance(state, list):\n",
    "        ai_message = state[-1]\n",
    "    elif messages := state.get(\"messages\", []):\n",
    "        ai_message = messages[-1]\n",
    "    else:\n",
    "        raise ValueError(f\"No messages found in input state to tool_edge: {state}\")\n",
    "    if hasattr(ai_message, \"tool_calls\") and len(ai_message.tool_calls) > 0:\n",
    "        return \"tools\"\n",
    "    return END\n",
    "\n",
    "\n",
    "# The `tools_condition` function returns \"tools\" if the chatbot asks to use a tool, and \"END\" if\n",
    "# it is fine directly responding. This conditional routing defines the main agent loop.\n",
    "graph_builder.add_conditional_edges(\n",
    "    \"chatbot\",\n",
    "    route_tools,\n",
    "    # The following dictionary lets you tell the graph to interpret the condition's outputs as a specific node\n",
    "    # It defaults to the identity function, but if you\n",
    "    # want to use a node named something else apart from \"tools\",\n",
    "    # You can update the value of the dictionary to something else\n",
    "    # e.g., \"tools\": \"my_tools\"\n",
    "    {\"tools\": \"tools\", END: END},\n",
    ")\n",
    "# Any time a tool is called, we return to the chatbot to decide the next step\n",
    "graph_builder.add_edge(\"tools\", \"chatbot\")\n",
    "graph_builder.add_edge(START, \"chatbot\")\n",
    "graph = graph_builder.compile()"
   ]
  },
  {
   "cell_type": "markdown",
   "id": "579aa543",
   "metadata": {},
   "source": [
    "### Dispaly the graph"
   ]
  },
  {
   "cell_type": "code",
   "execution_count": 86,
   "id": "0012802b",
   "metadata": {},
   "outputs": [
    {
     "data": {
      "image/png": "[encoded data removed]",
      "text/plain": [
       "<IPython.core.display.Image object>"
      ]
     },
     "metadata": {},
     "output_type": "display_data"
    }
   ],
   "source": [
    "from IPython.display import Image, display\n",
    "\n",
    "try:\n",
    "    display(Image(graph.get_graph().draw_mermaid_png()))\n",
    "except Exception:\n",
    "    # This requires some extra dependencies and is optional\n",
    "    pass"
   ]
  },
  {
   "cell_type": "markdown",
   "id": "03e87730",
   "metadata": {},
   "source": [
    "### Query to graph with tools"
   ]
  },
  {
   "cell_type": "code",
   "execution_count": 88,
   "id": "dd02a199",
   "metadata": {},
   "outputs": [
    {
     "name": "stdout",
     "output_type": "stream",
     "text": [
      "Assistant: \n",
      "Assistant: {\"query\": \"hello\", \"follow_up_questions\": null, \"answer\": null, \"images\": [], \"results\": [{\"title\": \"HELLO | definition in the Cambridge English Dictionary\", \"url\": \"https://dictionary.cambridge.org/us/dictionary/english/hello\", \"content\": \"Meaning of hello in English Your browser doesn't support HTML5 audio Your browser doesn't support HTML5 audio You can also find related words, phrases, and synonyms in the topics: Grammar hello | Intermediate English Your browser doesn't support HTML5 audio Examples of hello Translations of hello Get a quick, free translation! Browse More meanings of hello Word of the Day fly in the face of something to completely oppose what seems sensible or normal Blog The pecking order: talking about how important people are (1) New Words advergame \\u00a9 Cambridge University Press & Assessment 2025 To add hello to a word list please sign up or log in. Add hello to one of your lists below, or create a new one.\", \"score\": 0.57322514, \"raw_content\": null}], \"response_time\": 1.55}\n",
      "Assistant: \n",
      "Assistant: {\"query\": \"what is hello\", \"follow_up_questions\": null, \"answer\": null, \"images\": [], \"results\": [{\"title\": \"Hello - Wikipedia\", \"url\": \"https://en.wikipedia.org/wiki/Hello\", \"content\": \"According to the Oxford English Dictionary, hello is an alteration of hallo, hollo,[1] which came from Old High German \\\"hal\\u00e2, hol\\u00e2, emphatic imperative of hal\\u00f4n, hol\\u00f4n to fetch, used especially in hailing a ferryman\\\".[5] It also connects the development of hello to the influence of an earlier form, holla, whose origin is in the French hol\\u00e0 (roughly, 'whoa there!', from French l\\u00e0 'there').[6] As in addition to hello, halloo,[7]hallo, hollo, hullo and (rarely) hillo also exist as variants or related words, the word can be spelt using any of all five vowels.[8][9][10]\", \"score\": 0.8652358, \"raw_content\": null}], \"response_time\": 1.57}\n",
      "Assistant: Hello is a greeting that originated from the Old High German word \"halon,\" which means \"to fetch.\" It is also related to the French word \"holla,\" which means \"whoa there!\" The word \"hello\" has several variants, including \"halloo,\" \"hallo,\" \"hollo,\" \"hullo,\" and \"hillo.\"\n",
      "Goodbye!\n"
     ]
    }
   ],
   "source": [
    "def stream_graph_updates(user_input: str):\n",
    "    for event in graph.stream({\"messages\": [{\"role\": \"user\", \"content\": user_input}]}):\n",
    "        for value in event.values():\n",
    "            print(\"Assistant:\", value[\"messages\"][-1].content)\n",
    "\n",
    "while True:\n",
    "    try:\n",
    "        user_input = input(\"User: \")\n",
    "        if user_input.lower() in [\"quit\", \"exit\", \"q\"]:\n",
    "            print(\"Goodbye!\")\n",
    "            break\n",
    "\n",
    "        stream_graph_updates(user_input)\n",
    "    except:\n",
    "        # fallback if input() is not available\n",
    "        user_input = \"What do you know about LangGraph?\"\n",
    "        print(\"User: \" + user_input)\n",
    "        stream_graph_updates(user_input)\n",
    "        break"
   ]
  },
  {
   "cell_type": "markdown",
   "id": "b6d0070e",
   "metadata": {},
   "source": [
    "### Toos Call using prebuild function"
   ]
  },
  {
   "cell_type": "code",
   "execution_count": 89,
   "id": "bb137554",
   "metadata": {},
   "outputs": [],
   "source": [
    "from typing import Annotated\n",
    "\n",
    "from langchain_tavily import TavilySearch\n",
    "from langchain_core.messages import BaseMessage\n",
    "from typing_extensions import TypedDict\n",
    "\n",
    "from langgraph.graph import StateGraph, START, END\n",
    "from langgraph.graph.message import add_messages\n",
    "from langgraph.prebuilt import ToolNode, tools_condition\n",
    "\n",
    "class State(TypedDict):\n",
    "    messages: Annotated[list, add_messages]\n",
    "\n",
    "graph_builder = StateGraph(State)\n",
    "\n",
    "tool = TavilySearch(max_results=2)\n",
    "tools = [tool]\n",
    "llm_with_tools = llm.bind_tools(tools)\n",
    "\n",
    "def chatbot(state: State):\n",
    "    return {\"messages\": [llm_with_tools.invoke(state[\"messages\"])]}\n",
    "\n",
    "graph_builder.add_node(\"chatbot\", chatbot)\n",
    "\n",
    "tool_node = ToolNode(tools=[tool])\n",
    "graph_builder.add_node(\"tools\", tool_node)\n",
    "\n",
    "graph_builder.add_conditional_edges(\n",
    "    \"chatbot\",\n",
    "    tools_condition,\n",
    ")\n",
    "# Any time a tool is called, we return to the chatbot to decide the next step\n",
    "graph_builder.add_edge(\"tools\", \"chatbot\")\n",
    "graph_builder.add_edge(START, \"chatbot\")\n",
    "graph = graph_builder.compile()"
   ]
  },
  {
   "cell_type": "code",
   "execution_count": 90,
   "id": "37e681a5",
   "metadata": {},
   "outputs": [
    {
     "data": {
      "image/png": "[encoded data removed]",
      "text/plain": [
       "<IPython.core.display.Image object>"
      ]
     },
     "metadata": {},
     "output_type": "display_data"
    }
   ],
   "source": [
    "from IPython.display import Image, display\n",
    "\n",
    "try:\n",
    "    display(Image(graph.get_graph().draw_mermaid_png()))\n",
    "except Exception:\n",
    "    # This requires some extra dependencies and is optional\n",
    "    pass"
   ]
  }
 ],
 "metadata": {
  "kernelspec": {
   "display_name": "langchain",
   "language": "python",
   "name": "python3"
  },
  "language_info": {
   "codemirror_mode": {
    "name": "ipython",
    "version": 3
   },
   "file_extension": ".py",
   "mimetype": "text/x-python",
   "name": "python",
   "nbconvert_exporter": "python",
   "pygments_lexer": "ipython3",
   "version": "3.10.16"
  }
 },
 "nbformat": 4,
 "nbformat_minor": 5
}
